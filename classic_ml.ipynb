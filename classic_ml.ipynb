{
 "cells": [
  {
   "cell_type": "code",
   "execution_count": null,
   "metadata": {},
   "outputs": [],
   "source": []
  },
  {
   "cell_type": "code",
   "execution_count": null,
   "metadata": {},
   "outputs": [],
   "source": []
  },
  {
   "cell_type": "code",
   "execution_count": null,
   "metadata": {},
   "outputs": [],
   "source": []
  },
  {
   "cell_type": "code",
   "execution_count": null,
   "metadata": {},
   "outputs": [],
   "source": []
  },
  {
   "cell_type": "markdown",
   "metadata": {},
   "source": [
    "# Деревья решений"
   ]
  },
  {
   "attachments": {
    "image-2.png": {
     "image/png": "[encoded data removed]"
    },
    "image.png": {
     "image/png": "[encoded data removed]"
    }
   },
   "cell_type": "markdown",
   "metadata": {},
   "source": [
    "**Как строится дерево решений**\n",
    "\n",
    "Дерево решений — это иерархическая модель, которая делит данные на подмножества на основе условий в узлах (состоящих из признаков и пороговых значений). В каждом узле принимается решение о том, как разделить данные, чтобы максимизировать различие между классами или минимизировать разброс в случае регрессии.\n",
    "\n",
    "Процесс построения дерева решений:\n",
    "\n",
    "1. **Выбор признака для разделения**:\n",
    "   - На каждом шаге выбирается признак, по которому лучше всего разделить данные. Этот выбор основан на критерии, который измеряет качество разделения.\n",
    "   - Для **классификации** обычно используются:\n",
    "     - **Критерий Джини (Gini impurity)** — мера \"нечистоты\" узла, которая вычисляется как:\n",
    "\n",
    "       ![image-2.png](attachment:image-2.png)\\\n",
    "     \n",
    "     - **Энтропия** — мера неоднородности:\n",
    "\n",
    "       ![image.png](attachment:image.png)\\\n",
    "   - Для **регрессии** может использоваться:\n",
    "     - **Среднеквадратическая ошибка** или **разброс** (variance).\n",
    "\n",
    "2. **Разделение данных**:\n",
    "   - После выбора признака дерево решений выбирает пороговое значение, которое лучше всего разделяет объекты на две группы. Эти группы должны быть максимально однородными по классу (или иметь минимальный разброс для регрессии).\n",
    "   \n",
    "3. **Рекурсивное деление**:\n",
    "   - Процесс повторяется для каждой новой ветви, пока данные не будут разделены настолько, что каждый узел содержит данные, принадлежащие одному классу (или пока не достигнут максимальной глубины дерева).\n",
    "   \n",
    "4. **Остановка**:\n",
    "   - Деление продолжается до тех пор, пока не достигнут один из критериев остановки:\n",
    "     - Все объекты в узле принадлежат одному классу.\n",
    "     - Достигнута максимальная глубина дерева.\n",
    "     - Количество объектов в узле меньше определённого порога (например, меньше минимального количества объектов для разделения).\n",
    "\n",
    "Пример работы дерева:\n",
    "На каждом этапе дерево решений выбирает признак и пороговое значение, которые позволяют получить наилучшее разделение данных. Затем дерево рекурсивно строится, пока не достигнет условий остановки.\n",
    "\n",
    "---\n"
   ]
  },
  {
   "cell_type": "markdown",
   "metadata": {},
   "source": []
  }
 ],
 "metadata": {
  "language_info": {
   "name": "python"
  }
 },
 "nbformat": 4,
 "nbformat_minor": 2
}
